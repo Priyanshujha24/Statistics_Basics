{
  "nbformat": 4,
  "nbformat_minor": 0,
  "metadata": {
    "colab": {
      "provenance": [],
      "collapsed_sections": [
        "ii9eHFRkGHeV"
      ]
    },
    "kernelspec": {
      "name": "python3",
      "display_name": "Python 3"
    },
    "language_info": {
      "name": "python"
    }
  },
  "cells": [
    {
      "cell_type": "markdown",
      "source": [
        "#THEORY QUESTIONS"
      ],
      "metadata": {
        "id": "ii9eHFRkGHeV"
      }
    },
    {
      "cell_type": "markdown",
      "source": [
        "Q1. What is statistics, and why is it important?\n",
        "\n",
        "Ans. Statistics is the science of collecting, analyzing, interpreting, presenting, and organizing data to make informed decisions and draw meaningful conclusions. It helps identify patterns, trends, and relationships within data, enabling individuals and organizations to make evidence-based decisions in fields such as business, healthcare, government, education, and research. By transforming raw data into useful insights, statistics plays a crucial role in solving real-world problems, reducing uncertainty, and improving the accuracy of predictions and strategies."
      ],
      "metadata": {
        "id": "z2ZhA2yPGQHX"
      }
    },
    {
      "cell_type": "markdown",
      "source": [
        "Q2. What are the two main types of statistics?\n",
        "\n",
        "Ans. The two main types of statistics are **descriptive statistics** and **inferential statistics**.\n"
      ],
      "metadata": {
        "id": "VGZ2i_acGQKI"
      }
    },
    {
      "cell_type": "markdown",
      "source": [
        "Q3. What are descriptive statistics?\n",
        "\n",
        "Ans. **Descriptive statistics** summarize and organize the complete data using measures such as mean, median, mode, standard deviation, and visual tools like charts and graphs."
      ],
      "metadata": {
        "id": "vP_-FGnQGQNh"
      }
    },
    {
      "cell_type": "markdown",
      "source": [
        "Q4. What is inferential statistics?\n",
        "\n",
        "Ans. **Inferential statistics** uses sample data to make predictions or generalizations about a population, often involving probability, hypothesis testing, confidence intervals, and regression analysis."
      ],
      "metadata": {
        "id": "LWG6PyVaGQRC"
      }
    },
    {
      "cell_type": "markdown",
      "source": [
        "Q5. What is sampling in statistics?\n",
        "\n",
        "Ans. **Sampling** in statistics is the process of selecting a subset (called a **sample**) from a larger group (called a **population**) to gather insights or make inferences about the whole population. Since studying an entire population is often impractical or impossible due to time, cost, or accessibility, sampling allows researchers to analyze and draw conclusions efficiently and accurately, provided the sample is representative of the population."
      ],
      "metadata": {
        "id": "gtHzYk2YGQgc"
      }
    },
    {
      "cell_type": "markdown",
      "source": [
        "Q6. What are the different types of sampling methods?\n",
        "\n",
        "Ans. There are four different types of sampling methods/techniques :\n",
        "\n",
        "i) Simple Random Sampling\n",
        "\n",
        "ii) Stratified Sampling\n",
        "\n",
        "iii) Cluster Sampling\n",
        "\n",
        "iv) Systematic Sampling\n",
        "\n",
        "But mostly, i) SRS and ii) Stratified sampling are used in Data Analytics."
      ],
      "metadata": {
        "id": "aAw5CqzHK7jq"
      }
    },
    {
      "cell_type": "markdown",
      "source": [
        "Q7. What is the difference between random and non-random sampling?\n",
        "\n",
        "Ans. The **difference between random and non-random sampling** lies in how the sample is selected:\n",
        "\n",
        "* **Random Sampling** (also called probability sampling) ensures that every individual in the population has a known and equal chance of being selected. This reduces bias and allows for generalization of results to the entire population. Examples include simple random sampling and stratified sampling.\n",
        "\n",
        "* **Non-Random Sampling** (also called non-probability sampling) does **not** give every individual a known or equal chance of being chosen. It may rely on convenience, judgment, or voluntary participation, which can introduce bias and limit the ability to generalize results. Examples include convenience sampling and purposive sampling.\n",
        "\n",
        "In short: **random sampling is unbiased and more scientifically reliable**, while **non-random sampling is quicker and easier but more prone to bias**."
      ],
      "metadata": {
        "id": "z7Xi_UOiNZGP"
      }
    },
    {
      "cell_type": "markdown",
      "source": [
        "Q8. Define and give examples of qualitative and quantitative data.\n",
        "\n",
        "Ans. **Qualitative data** refers to non-numerical information that describes qualities or characteristics. It is often categorical and cannot be measured with numbers.\n",
        "\n",
        "* **Example**: Eye color (blue, brown, green), types of cuisine (Italian, Chinese), or customer feedback (satisfied, neutral, dissatisfied).\n",
        "\n",
        "**Quantitative data** refers to numerical information that can be measured and analyzed statistically. It deals with quantities and values.\n",
        "\n",
        "* **Example**: Height (170 cm), age (25 years), number of students in a class (30), or test scores (85 out of 100).\n",
        "\n",
        "In summary, **qualitative = descriptive**, while **quantitative = measurable**."
      ],
      "metadata": {
        "id": "ea9IScc3N_C0"
      }
    },
    {
      "cell_type": "markdown",
      "source": [
        "Q9.  What are the different types of data in statistics?\n",
        "\n",
        "Ans. In statistics, data is classified into different **types based on its nature and measurement level**. The main types are:\n",
        "\n",
        "### **1. Qualitative (Categorical) Data**\n",
        "\n",
        "* **Nominal Data**: Categories with no logical order.\n",
        "  *Example:* Gender (male/female), blood type (A, B, AB, O).\n",
        "* **Ordinal Data**: Categories with a meaningful order, but the differences between them are not measurable.\n",
        "  *Example:* Education level (high school, bachelor's, master's), customer satisfaction (poor, average, good).\n",
        "\n",
        "### **2. Quantitative (Numerical) Data**\n",
        "\n",
        "* **Discrete Data**: Countable values, often whole numbers.\n",
        "  *Example:* Number of students in a class, number of cars in a parking lot.\n",
        "* **Continuous Data**: Measurable values that can take any value within a range.\n",
        "  *Example:* Height, weight, temperature, time.\n",
        "\n",
        "These data types help determine the appropriate statistical methods for analysis."
      ],
      "metadata": {
        "id": "XuSsHAIlOiEs"
      }
    },
    {
      "cell_type": "markdown",
      "source": [
        "Q10. Explain nominal, ordinal, interval, and ratio levels of measurement.\n",
        "\n",
        "Ans. The **four levels of measurement** in statistics—**nominal, ordinal, interval, and ratio**—represent different ways to classify and analyze data based on the amount of information they convey:\n",
        "\n",
        "**1. Nominal Level**\n",
        "\n",
        "* **Definition**: Categorizes data without any order or ranking.\n",
        "* **Characteristics**: Labels or names only; no numerical meaning.\n",
        "* **Example**: Gender (male, female), types of fruits (apple, banana, orange).\n",
        "\n",
        "**2. Ordinal Level**\n",
        "\n",
        "* **Definition**: Categorizes data with a meaningful order, but the intervals between categories are not equal or known.\n",
        "* **Characteristics**: Ranked or ordered, but differences between ranks aren’t measurable.\n",
        "* **Example**: Education level (high school < bachelor's < master's), satisfaction rating (poor < fair < good < excellent).\n",
        "\n",
        "**3. Interval Level**\n",
        "\n",
        "* **Definition**: Numeric data with equal intervals between values, but no true zero point.\n",
        "* **Characteristics**: Can add and subtract, but cannot multiply or divide meaningfully.\n",
        "* **Example**: Temperature in Celsius or Fahrenheit (0°C doesn’t mean \"no temperature\"), IQ scores.\n",
        "\n",
        "**4. Ratio Level**\n",
        "\n",
        "* **Definition**: Numeric data with equal intervals and a true zero point.\n",
        "* **Characteristics**: All arithmetic operations are meaningful, including ratios.\n",
        "* **Example**: Height, weight, age, income, number of children (0 means none)."
      ],
      "metadata": {
        "id": "zcBjdxYkO8fA"
      }
    },
    {
      "cell_type": "markdown",
      "source": [
        "Q11. What is the measure of central tendency?\n",
        "\n",
        "Ans. A **measure of central tendency** is a statistical value that represents the center or typical value of a data set. It gives a single summary figure that describes the middle or average of the data, helping to understand the overall distribution.\n",
        "\n",
        "The three main measures of central tendency are:\n",
        "\n",
        "1. Mean\n",
        "2. Median\n",
        "3. Mode\n",
        "\n",
        "Each measure is useful depending on the nature of the data and whether there are outliers or skewed distributions."
      ],
      "metadata": {
        "id": "G-dVwo5_RMXJ"
      }
    },
    {
      "cell_type": "markdown",
      "source": [
        "Q12. Define mean, median, and mode.\n",
        "\n",
        "Ans.\n",
        "\n",
        "**Mean**: The arithmetic average, calculated by adding all values and dividing by the number of values.\n",
        "\n",
        "   *Example*: Mean of 2, 4, 6 is (2+4+6)/3 = 4.\n",
        "\n",
        "**Median**: The middle value when the data is arranged in order. If there’s an even number of values, it’s the average of the two middle ones.\n",
        "\n",
        "   *Example*: Median of 3, 5, 7 is 5.\n",
        "\n",
        "**Mode**: The value that appears most frequently in the data set.\n",
        "\n",
        "   *Example*: Mode of 2, 2, 3, 4 is 2."
      ],
      "metadata": {
        "id": "gBiJzD04iKLM"
      }
    },
    {
      "cell_type": "markdown",
      "source": [
        "Q13.What is the significance of the measure of central tendency?\n",
        "\n",
        "Ans. The **significance of the measure of central tendency** lies in its ability to **summarize a large set of data with a single representative value**, making complex data easier to understand and interpret. It helps identify the typical or average behavior within a dataset, allowing comparisons between different groups, tracking changes over time, and supporting decision-making in fields like business, education, healthcare, and research. By providing insight into the \"center\" of the data, these measures also help in detecting patterns, making predictions, and guiding statistical analysis."
      ],
      "metadata": {
        "id": "_K30qu-u10te"
      }
    },
    {
      "cell_type": "markdown",
      "source": [
        "Q14. What is variance, and how is it calculated?\n",
        "\n",
        "Ans. Variance measures the average of the squared differences from the mean. A higher variance means data points are more spread out.\n",
        "\n",
        "Steps to calculate the variance :\n",
        "\n",
        "i) find the mean\n",
        "\n",
        "ii) Find the squared differeces from the mean\n",
        "\n",
        "iii) Sum of the sqared differences\n",
        "\n",
        "iv) Divide by *n-1* (For sample)"
      ],
      "metadata": {
        "id": "uyhitu8p2eeI"
      }
    },
    {
      "cell_type": "markdown",
      "source": [
        "Q15. What is standard deviation, and why is it important?\n",
        "\n",
        "Ans. Standard deviation is a statistical measure that indicates the amount of variation or dispersion in a set of data values. It's the square root of variance, and it expresses the spread of data points around the mean in the same units as the data. ( S.D. is the measure of how spread out numbers are. Actually it gives another way to look at the data by comparing with respect to mean.)\n",
        "\n",
        "Why it is important ?\n",
        "\n",
        "i) Interpretable:\n",
        "Unlike variance, which is in squared units, standard deviation is in the same units as the data, making it more intuitive.\n",
        "\n",
        "ii) Describes Spread:\n",
        "A small standard deviation means data points are close to the mean, while a large standard deviation means they are more spread out.\n",
        "\n",
        "iii) Used in Normal Distribution:\n",
        "In a normal distribution, about:\n",
        "\n",
        "* 68% of data falls within ±1 SD\n",
        "\n",
        "* 95% within ±2 SDs\n",
        "\n",
        "* 99.7% within ±3 SDs (Empirical Rule)\n",
        "\n",
        "iv) Risk & Uncertainty:\n",
        "In finance, it's used to measure volatility (higher SD = higher risk).\n",
        "\n",
        "v) Comparisons:\n",
        "Helps compare variability across different datasets or populations.\n",
        "\n"
      ],
      "metadata": {
        "id": "BNs7ukKsCIuE"
      }
    },
    {
      "cell_type": "markdown",
      "source": [
        "Q16.Define and explain the term range in statistics?\n",
        "\n",
        "Ans. The range is the simplest measure of dispersion in a data set. It shows the spread between the smallest and largest values. It has some limitations for example, it is very sensitive to outliers and it might be possible that two datasets have the same range but very different spreads and shapes."
      ],
      "metadata": {
        "id": "5LlMx2zMIUOp"
      }
    },
    {
      "cell_type": "markdown",
      "source": [
        "Q17. What is the difference between variance and standard deviation?\n",
        "\n",
        "Ans. Variance and standard deviation are both measures of how spread out data points are around the mean. Variance calculates the average of the squared differences from the mean, resulting in values in squared units, which makes it less intuitive to interpret. Standard deviation is the square root of the variance and is expressed in the same units as the original data, making it more practical and easier to understand. While variance is useful in statistical modeling, standard deviation is more commonly used to describe data variability in real-world contexts."
      ],
      "metadata": {
        "id": "dVcAuHbZLiDN"
      }
    },
    {
      "cell_type": "markdown",
      "source": [
        "Q18. What is skewness in a dataset?\n",
        "\n",
        "Ans. **Skewness** is a statistical measure that describes the **asymmetry** of a dataset's distribution around its mean. If the data is **symmetrical**, the skewness is zero. A **positive skew** (right-skewed) means the right tail is longer, with more values concentrated on the left, and a few large values pulling the mean higher. A **negative skew** (left-skewed) means the left tail is longer, with most values on the right and a few small values pulling the mean lower. Skewness helps identify whether a dataset deviates from the normal distribution, which can impact statistical analyses and modeling."
      ],
      "metadata": {
        "id": "01VgtDB-MrWz"
      }
    },
    {
      "cell_type": "markdown",
      "source": [
        "Q19. What does it mean if a dataset is positively or negatively skewed?\n",
        "\n",
        "Ans. If a dataset is **positively skewed** (right-skewed), it means that most of the values are concentrated on the **left side**, with a **long tail extending to the right**. In this case, the **mean is greater than the median**, often due to a few large outliers pulling the average up.\n",
        "\n",
        "If a dataset is **negatively skewed** (left-skewed), most values are concentrated on the **right side**, with a **long tail extending to the left**. Here, the **mean is less than the median**, usually because of a few low outliers pulling the average down.\n",
        "\n",
        "In both cases, skewness affects the symmetry of the data and can influence which statistical methods are appropriate."
      ],
      "metadata": {
        "id": "oDsAvGpCQ-3D"
      }
    },
    {
      "cell_type": "markdown",
      "source": [
        "Q20. Define and explain kurtosis.\n",
        "\n",
        "Ans. **Kurtosis** is a statistical measure that describes the **tailedness** or **extremity** of values in a data distribution, indicating how likely a dataset is to produce **outliers**. It focuses on the shape of the distribution’s **tails and peak** relative to a normal distribution. A distribution with **high kurtosis** (leptokurtic) has **heavy tails** and a **sharp peak**, suggesting more frequent extreme values or outliers. In contrast, **low kurtosis** (platykurtic) indicates **light tails** and a **flatter peak**, meaning fewer outliers and a more uniform distribution. A normal distribution has a kurtosis of **3**, and when using **excess kurtosis** (common in statistical software), this value is adjusted to **0**. Kurtosis is important because it helps assess the risk of extreme values, impacts the reliability of statistical tests, and is often used alongside skewness to better understand the overall shape and behavior of a dataset."
      ],
      "metadata": {
        "id": "rr2rRVkxRLVq"
      }
    },
    {
      "cell_type": "markdown",
      "source": [
        "Q21. What is the purpose of covariance.\n",
        "\n",
        "Ans. The **purpose of covariance** is to measure the **direction of the relationship** between two variables — specifically, how changes in one variable are **associated with changes in another**. A **positive covariance** indicates that as one variable increases, the other tends to increase as well, while a **negative covariance** means that as one increases, the other tends to decrease. Covariance helps in understanding whether two variables move **together** or **oppositely**, and it serves as a foundation for more advanced statistical tools, such as **correlation** (which standardizes covariance) and **portfolio theory** in finance, where it’s used to assess how assets move in relation to each other for diversification. However, since covariance is not standardized, it doesn’t indicate the **strength** of the relationship—only the **direction**."
      ],
      "metadata": {
        "id": "XjkIFVibRalp"
      }
    },
    {
      "cell_type": "markdown",
      "source": [
        "Q22. What does correlation measure in statistics?\n",
        "\n",
        "Ans. In statistics, **correlation** measures the **strength and direction of the linear relationship** between two variables. It tells us how closely two variables move together: a **positive correlation** means they increase or decrease together, while a **negative correlation** means one increases as the other decreases. The most common measure is the **Pearson correlation coefficient (r)**, which ranges from **-1 to +1**. A value of **+1** indicates a perfect positive linear relationship, **-1** indicates a perfect negative linear relationship, and **0** means no linear relationship. Unlike covariance, correlation is **standardized**, making it easier to compare across different datasets or units."
      ],
      "metadata": {
        "id": "T8XBMfbuRhzS"
      }
    },
    {
      "cell_type": "markdown",
      "source": [
        "Q23. What is the difference between covariance and correlation?\n",
        "\n",
        "Ans. **Covariance** and **correlation** both measure the relationship between two variables, but they differ in **scale, interpretation, and standardization**.\n",
        "\n",
        "Covariance measures the **direction** of the linear relationship — whether variables move together (positive covariance) or in opposite directions (negative covariance). However, it is **not standardized** and depends on the units of the variables, so its magnitude is hard to interpret or compare across different datasets.\n",
        "\n",
        "Correlation, on the other hand, not only shows the **direction** but also the **strength** of the relationship. It is a **standardized form of covariance**, ranging from **-1 to +1**, which makes it easier to interpret. A correlation close to +1 or -1 indicates a strong linear relationship, while a value near 0 indicates a weak or no linear relationship.\n",
        "\n",
        "In short: covariance tells **how** two variables move together; correlation tells **how much** and **how strongly** they do so, in a way that's comparable across contexts."
      ],
      "metadata": {
        "id": "UyzJqZcwRtJJ"
      }
    },
    {
      "cell_type": "markdown",
      "source": [
        "Q24. What are some real-world applications of statistics?\n",
        "\n",
        "Ans. Statistics has a wide range of **real-world applications** across nearly every field. Here are some key examples:\n",
        "\n",
        "1. **Healthcare**: Statistics is used in medical research to analyze clinical trials, determine treatment effectiveness, and predict disease outbreaks. It helps in making data-driven decisions for public health policies.\n",
        "\n",
        "2. **Business and Marketing**: Companies use statistical analysis for market research, customer behavior analysis, forecasting sales, and quality control. It helps optimize marketing strategies and product development.\n",
        "\n",
        "3. **Finance and Economics**: In finance, statistics are used to assess risk, model market behavior, and guide investment decisions. Economists rely on statistical data to study economic trends, unemployment rates, and inflation.\n",
        "\n",
        "4. **Education**: Schools and policymakers use statistics to evaluate student performance, teacher effectiveness, and the impact of educational programs.\n",
        "\n",
        "5. **Government and Public Policy**: Governments use statistics to conduct censuses, allocate resources, and shape policies based on crime rates, population trends, and economic indicators.\n",
        "\n",
        "6. **Sports Analytics**: Teams and analysts use statistics to evaluate player performance, develop game strategies, and predict outcomes.\n",
        "\n",
        "7. **Environmental Science**: Statistical models help monitor climate change, predict natural disasters, and manage environmental resources.\n",
        "\n",
        "8. **Technology and AI**: In data science and machine learning, statistics form the foundation for algorithms, pattern recognition, and predictive modeling.\n",
        "\n",
        "These applications show how statistics play a critical role in **informed decision-making** and **solving real-world problems** across disciplines."
      ],
      "metadata": {
        "id": "FiMD88opRyjK"
      }
    },
    {
      "cell_type": "markdown",
      "source": [
        "#*PRACTICAL QUESTIONS*"
      ],
      "metadata": {
        "id": "FwJ-ZjO_SfwQ"
      }
    },
    {
      "cell_type": "code",
      "source": [
        "#1. How do you calculate the mean, median, and mode of a dataset?\n",
        "\n",
        "import statistics\n",
        "\n",
        "data = [1,2,3,4,5,5,5,5,5,5,5,6,7,8,9,10,1,1,1,1]\n",
        "\n",
        "mean = statistics.mean(data)\n",
        "\n",
        "median = statistics.median(data)\n",
        "\n",
        "mode = statistics.mode(data)\n",
        "\n",
        "print(f'Mean value : {mean}, Median : {median}, Mode : {mode}')"
      ],
      "metadata": {
        "colab": {
          "base_uri": "https://localhost:8080/"
        },
        "id": "D1AYSmcgSaLJ",
        "outputId": "32a96d7a-e145-484b-f579-86ba61aaa8f8"
      },
      "execution_count": null,
      "outputs": [
        {
          "output_type": "stream",
          "name": "stdout",
          "text": [
            "Mean value : 4.45, Median : 5.0, Mode : 5\n"
          ]
        }
      ]
    },
    {
      "cell_type": "code",
      "source": [
        "#2. Write a Python program to compute the variance and standard deviation of a dataset.\n",
        "\n",
        "import numpy as np\n",
        "\n",
        "# I've used the data defined in the previous question\n",
        "\n",
        "variance = np.var(data, ddof=1)\n",
        "\n",
        "standard_deviation = np.std(data, ddof=1)\n",
        "\n",
        "print(f'the variance for the data : {variance} \\n And the standard deviation :{standard_deviation} ')"
      ],
      "metadata": {
        "colab": {
          "base_uri": "https://localhost:8080/"
        },
        "id": "ydCJYdzYUvLs",
        "outputId": "7a493bd1-26df-4368-d6fe-a83cb624cf6c"
      },
      "execution_count": null,
      "outputs": [
        {
          "output_type": "stream",
          "name": "stdout",
          "text": [
            "the variance for the data : 7.523684210526317 \n",
            " And the standard deviation :2.742933504576135 \n"
          ]
        }
      ]
    },
    {
      "cell_type": "code",
      "source": [
        "#3. Create a dataset and classify it into nominal, ordinal, interval, and ratio types.\n",
        "\n",
        "import pandas as pd\n",
        "\n",
        "# Creating the dataset\n",
        "data = {\n",
        "    'Name': ['Alice', 'Bob', 'Charlie', 'David', 'Eva'],                    # Nominal\n",
        "    'Education_Level': ['High School', 'Bachelor', 'Master', 'PhD', 'Bachelor'],  # Ordinal\n",
        "    'Temperature_C': [36.5, 37.0, 36.8, 37.1, 36.6],                         # Interval\n",
        "    'Age': [25, 30, 22, 35, 28],                                            # Ratio\n",
        "    'Gender': ['Female', 'Male', 'Male', 'Male', 'Female'],                # Nominal\n",
        "    'Satisfaction_Rating': [1, 3, 2, 5, 4],                                 # Ordinal\n",
        "    'Income_USD': [40000, 55000, 48000, 62000, 51000]                       # Ratio\n",
        "}\n",
        "\n",
        "df = pd.DataFrame(data)\n",
        "print(df)"
      ],
      "metadata": {
        "id": "zSJUykmE5Mck",
        "colab": {
          "base_uri": "https://localhost:8080/"
        },
        "outputId": "5d674431-9c09-461f-ad5c-d6bdea6096bf"
      },
      "execution_count": 1,
      "outputs": [
        {
          "output_type": "stream",
          "name": "stdout",
          "text": [
            "      Name Education_Level  Temperature_C  Age  Gender  Satisfaction_Rating  \\\n",
            "0    Alice     High School           36.5   25  Female                    1   \n",
            "1      Bob        Bachelor           37.0   30    Male                    3   \n",
            "2  Charlie          Master           36.8   22    Male                    2   \n",
            "3    David             PhD           37.1   35    Male                    5   \n",
            "4      Eva        Bachelor           36.6   28  Female                    4   \n",
            "\n",
            "   Income_USD  \n",
            "0       40000  \n",
            "1       55000  \n",
            "2       48000  \n",
            "3       62000  \n",
            "4       51000  \n"
          ]
        }
      ]
    },
    {
      "cell_type": "code",
      "source": [
        "#4.  Implement sampling techniques like random sampling and stratified sampling.\n",
        "\n",
        "import random\n",
        "import pandas as pd\n",
        "\n",
        "# Example population dataset\n",
        "population_data = {\n",
        "    'Age': [22, 25, 27, 30, 35, 40, 45, 50, 55, 60],\n",
        "    'Gender': ['Male', 'Female', 'Male', 'Female', 'Male', 'Female', 'Male', 'Female', 'Male', 'Female'],\n",
        "    'Income': [50000, 55000, 60000, 65000, 70000, 75000, 80000, 85000, 90000, 95000]\n",
        "}\n",
        "\n",
        "# Convert the dataset to a pandas DataFrame\n",
        "population_df = pd.DataFrame(population_data)\n",
        "\n",
        "# 1. Random Sampling\n",
        "def random_sampling(data, sample_size):\n",
        "    return data.sample(n=sample_size, random_state=42)\n",
        "\n",
        "# 2. Stratified Sampling\n",
        "def stratified_sampling(data, stratify_column, sample_size):\n",
        "    stratified_sample = data.groupby(stratify_column).apply(lambda x: x.sample(n=int(sample_size / len(data[stratify_column].unique())), random_state=42)).reset_index(drop=True)\n",
        "    return stratified_sample\n",
        "\n",
        "# Example: Random Sampling\n",
        "sample_size = 4\n",
        "random_sample = random_sampling(population_df, sample_size)\n",
        "\n",
        "# Example: Stratified Sampling (stratified by 'Gender')\n",
        "stratified_sample = stratified_sampling(population_df, stratify_column='Gender', sample_size=4)\n",
        "\n",
        "# Displaying the results\n",
        "print(\"Random Sample:\")\n",
        "print(random_sample)\n",
        "print(\"\\nStratified Sample (based on Gender):\")\n",
        "print(stratified_sample)"
      ],
      "metadata": {
        "colab": {
          "base_uri": "https://localhost:8080/"
        },
        "id": "wxX-s5q6dU5B",
        "outputId": "4322c9ad-9cf5-4873-d7d1-17a64fde27c9"
      },
      "execution_count": 2,
      "outputs": [
        {
          "output_type": "stream",
          "name": "stdout",
          "text": [
            "Random Sample:\n",
            "   Age  Gender  Income\n",
            "8   55    Male   90000\n",
            "1   25  Female   55000\n",
            "5   40  Female   75000\n",
            "0   22    Male   50000\n",
            "\n",
            "Stratified Sample (based on Gender):\n",
            "   Age  Gender  Income\n",
            "0   30  Female   65000\n",
            "1   60  Female   95000\n",
            "2   27    Male   60000\n",
            "3   55    Male   90000\n"
          ]
        },
        {
          "output_type": "stream",
          "name": "stderr",
          "text": [
            "/tmp/ipython-input-2-1992116588.py:22: DeprecationWarning: DataFrameGroupBy.apply operated on the grouping columns. This behavior is deprecated, and in a future version of pandas the grouping columns will be excluded from the operation. Either pass `include_groups=False` to exclude the groupings or explicitly select the grouping columns after groupby to silence this warning.\n",
            "  stratified_sample = data.groupby(stratify_column).apply(lambda x: x.sample(n=int(sample_size / len(data[stratify_column].unique())), random_state=42)).reset_index(drop=True)\n"
          ]
        }
      ]
    },
    {
      "cell_type": "code",
      "source": [
        "#5. Write a Python function to calculate the range of a dataset.\n",
        "\n",
        "def calculate_range(data):\n",
        "    if not data:\n",
        "        return None  # Handle empty data\n",
        "    return max(data) - min(data)\n",
        "\n",
        "data = [1,2,3,4,5,6,7,8,9,10]\n",
        "\n",
        "range_of_data = calculate_range(data)\n",
        "\n",
        "print(f'the range for the data is {range_of_data}')"
      ],
      "metadata": {
        "colab": {
          "base_uri": "https://localhost:8080/"
        },
        "id": "7343vORSgOss",
        "outputId": "afa9a636-f3d9-4462-a257-c56729409382"
      },
      "execution_count": 11,
      "outputs": [
        {
          "output_type": "stream",
          "name": "stdout",
          "text": [
            "the range for the data is 9\n"
          ]
        }
      ]
    },
    {
      "cell_type": "code",
      "source": [
        "#6. Create a dataset and plot its histogram to visualize skewness.\n",
        "\n",
        "import numpy as np\n",
        "import matplotlib.pyplot as plt\n",
        "\n",
        "# Create right-skewed data using exponential distribution\n",
        "data = np.random.exponential(scale=2.0, size=1000)\n",
        "\n",
        "# Plot histogram\n",
        "plt.hist(data, bins=30, color='lightblue', edgecolor='black')\n",
        "plt.title('Histogram of Skewed Data')\n",
        "plt.xlabel('Value')\n",
        "plt.ylabel('Frequency')\n",
        "plt.grid(True)\n",
        "plt.show()"
      ],
      "metadata": {
        "colab": {
          "base_uri": "https://localhost:8080/",
          "height": 472
        },
        "id": "8gTNzB2OgOkc",
        "outputId": "dc5a5699-5772-47b1-cfc4-dff8f979d914"
      },
      "execution_count": 2,
      "outputs": [
        {
          "output_type": "display_data",
          "data": {
            "text/plain": [
              "<Figure size 640x480 with 1 Axes>"
            ],
            "image/png": "[encoded data removed]"
          },
          "metadata": {}
        }
      ]
    },
    {
      "cell_type": "code",
      "source": [
        "#7. Calculate skewness and kurtosis of a dataset using Python libraries.\n",
        "\n",
        "import pandas as pd\n",
        "\n",
        "# Create a pandas Series\n",
        "series = pd.Series(data)\n",
        "\n",
        "# Calculate skewness and kurtosis\n",
        "print(\"Skewness (pandas):\", series.skew())\n",
        "print(\"Kurtosis (pandas):\", series.kurt())  # Also returns excess kurtosis"
      ],
      "metadata": {
        "colab": {
          "base_uri": "https://localhost:8080/"
        },
        "id": "L3ypJXdRgOZx",
        "outputId": "541aea52-a180-47db-d6de-ea771ccc37c7"
      },
      "execution_count": 3,
      "outputs": [
        {
          "output_type": "stream",
          "name": "stdout",
          "text": [
            "Skewness (pandas): 1.8758760155096572\n",
            "Kurtosis (pandas): 4.451007115991834\n"
          ]
        }
      ]
    },
    {
      "cell_type": "code",
      "source": [
        "#8. Generate a dataset and demonstrate positive and negative skewness\n",
        "import numpy as np\n",
        "import matplotlib.pyplot as plt\n",
        "from scipy.stats import skew\n",
        "\n",
        "# Generate data\n",
        "pos_skew = np.random.exponential(scale=2.0, size=1000)  # Right-skewed\n",
        "neg_skew = -np.random.exponential(scale=2.0, size=1000)  # Left-skewed\n",
        "\n",
        "# Calculate skewness\n",
        "print(\"Positive skewness:\", skew(pos_skew))\n",
        "print(\"Negative skewness:\", skew(neg_skew))\n",
        "\n",
        "# Plot\n",
        "plt.figure(figsize=(10, 4))\n",
        "\n",
        "plt.subplot(1, 2, 1)\n",
        "plt.hist(pos_skew, bins=30, color='skyblue')\n",
        "plt.title('Positive Skew')\n",
        "\n",
        "plt.subplot(1, 2, 2)\n",
        "plt.hist(neg_skew, bins=30, color='orange')\n",
        "plt.title('Negative Skew')\n",
        "\n",
        "plt.tight_layout()\n",
        "plt.show()"
      ],
      "metadata": {
        "colab": {
          "base_uri": "https://localhost:8080/",
          "height": 442
        },
        "id": "bNvK-4uRgOSL",
        "outputId": "a3aa270b-1ae0-49d8-f126-c2d286991058"
      },
      "execution_count": 4,
      "outputs": [
        {
          "output_type": "stream",
          "name": "stdout",
          "text": [
            "Positive skewness: 1.6521363656077557\n",
            "Negative skewness: -1.9246230719005046\n"
          ]
        },
        {
          "output_type": "display_data",
          "data": {
            "text/plain": [
              "<Figure size 1000x400 with 2 Axes>"
            ],
            "image/png": "[encoded data removed]"
          },
          "metadata": {}
        }
      ]
    },
    {
      "cell_type": "code",
      "source": [
        "#9. Write a Python script to calculate covariance between two datasets.\n",
        "import numpy as np\n",
        "\n",
        "# Sample datasets\n",
        "x = [2, 4, 6, 8, 10]\n",
        "y = [1, 3, 2, 5, 7]\n",
        "\n",
        "# Step 1: Calculate means\n",
        "mean_x = np.mean(x)\n",
        "mean_y = np.mean(y)\n",
        "\n",
        "# Step 2: Manual covariance calculation\n",
        "covariance = sum((xi - mean_x) * (yi - mean_y) for xi, yi in zip(x, y)) / (len(x) - 1)\n",
        "\n",
        "print(f\"Covariance (manual): {covariance:.2f}\")\n",
        "\n",
        "# Step 3: Using NumPy\n",
        "cov_matrix = np.cov(x, y)\n",
        "print(f\"Covariance (NumPy): {cov_matrix[0][1]:.2f}\")"
      ],
      "metadata": {
        "colab": {
          "base_uri": "https://localhost:8080/"
        },
        "id": "XhjuJ_i5gOMF",
        "outputId": "9c94ef5a-8289-48d1-a179-d86e6e10daf9"
      },
      "execution_count": 5,
      "outputs": [
        {
          "output_type": "stream",
          "name": "stdout",
          "text": [
            "Covariance (manual): 7.00\n",
            "Covariance (NumPy): 7.00\n"
          ]
        }
      ]
    },
    {
      "cell_type": "code",
      "source": [
        "#10. Write a Python script to calculate the correlation coefficient between two datasets.\n",
        "\n",
        "import numpy as np\n",
        "\n",
        "# Sample datasets\n",
        "x = [2, 4, 6, 8, 10]\n",
        "y = [1, 3, 2, 5, 7]\n",
        "\n",
        "# Method 1: Using numpy\n",
        "correlation_matrix = np.corrcoef(x, y)\n",
        "correlation = correlation_matrix[0, 1]\n",
        "\n",
        "print(f\"Correlation Coefficient (NumPy): {correlation:.2f}\")"
      ],
      "metadata": {
        "colab": {
          "base_uri": "https://localhost:8080/"
        },
        "id": "IRWFA5rEgOCy",
        "outputId": "379826e2-59b4-4225-8111-5e10f47a3bab"
      },
      "execution_count": 6,
      "outputs": [
        {
          "output_type": "stream",
          "name": "stdout",
          "text": [
            "Correlation Coefficient (NumPy): 0.92\n"
          ]
        }
      ]
    },
    {
      "cell_type": "code",
      "source": [
        "#11. Create a scatter plot to visualize the relationship between two variables.\n",
        "\n",
        "import matplotlib.pyplot as plt\n",
        "\n",
        "# Sample data\n",
        "x = [2, 4, 6, 8, 10]\n",
        "y = [1, 3, 2, 5, 7]\n",
        "\n",
        "# Create scatter plot\n",
        "plt.scatter(x, y, color='blue', edgecolors='black')\n",
        "\n",
        "# Add labels and title\n",
        "plt.title('Scatter Plot of X vs Y')\n",
        "plt.xlabel('X Values')\n",
        "plt.ylabel('Y Values')\n",
        "\n",
        "# Optional: Add grid\n",
        "plt.grid(True)\n",
        "\n",
        "# Show plot\n",
        "plt.show()"
      ],
      "metadata": {
        "colab": {
          "base_uri": "https://localhost:8080/",
          "height": 472
        },
        "id": "ARiBVBN7gN7x",
        "outputId": "0c6e04a6-7aa9-4f1a-e0b8-e4169b61dab9"
      },
      "execution_count": 7,
      "outputs": [
        {
          "output_type": "display_data",
          "data": {
            "text/plain": [
              "<Figure size 640x480 with 1 Axes>"
            ],
            "image/png": "[encoded data removed]"
          },
          "metadata": {}
        }
      ]
    },
    {
      "cell_type": "code",
      "source": [
        "#12. Implement and compare simple random sampling and systematic sampling.\n",
        "\n",
        "# Import necessary libraries\n",
        "import pandas as pd\n",
        "import numpy as np\n",
        "\n",
        "# Create a DataFrame with 100 IDs\n",
        "data = pd.DataFrame({'ID': list(range(1, 101))})\n",
        "\n",
        "print(data.head())\n",
        "\n",
        "\n",
        "#Simple Random Sampling\n",
        "def simple_random_sample(data, sample_size):\n",
        "    return data.sample(n=sample_size, random_state=42)\n",
        "\n",
        "#Systematic Sampling\n",
        "def systematic_sample(data, sample_size):\n",
        "    step = len(data) // sample_size\n",
        "    indices = np.arange(0, len(data), step)[:sample_size]\n",
        "    return data.iloc[indices]\n",
        "\n",
        "#Apply & Compare Both Methods\n",
        "sample_size = 10\n",
        "\n",
        "# Simple Random Sample\n",
        "random_sample = simple_random_sample(data, sample_size)\n",
        "print(\"\\nSimple Random Sample:\\n\", random_sample)\n",
        "\n",
        "# Systematic Sample\n",
        "systematic_sample_data = systematic_sample(data, sample_size)\n",
        "print(\"\\nSystematic Sample:\\n\", systematic_sample_data)"
      ],
      "metadata": {
        "colab": {
          "base_uri": "https://localhost:8080/"
        },
        "id": "ytyogLCCgN1H",
        "outputId": "72298c60-3bc2-4325-b96f-1f476ac6cfb7"
      },
      "execution_count": 1,
      "outputs": [
        {
          "output_type": "stream",
          "name": "stdout",
          "text": [
            "   ID\n",
            "0   1\n",
            "1   2\n",
            "2   3\n",
            "3   4\n",
            "4   5\n",
            "\n",
            "Simple Random Sample:\n",
            "     ID\n",
            "83  84\n",
            "53  54\n",
            "70  71\n",
            "45  46\n",
            "44  45\n",
            "39  40\n",
            "22  23\n",
            "80  81\n",
            "10  11\n",
            "0    1\n",
            "\n",
            "Systematic Sample:\n",
            "     ID\n",
            "0    1\n",
            "10  11\n",
            "20  21\n",
            "30  31\n",
            "40  41\n",
            "50  51\n",
            "60  61\n",
            "70  71\n",
            "80  81\n",
            "90  91\n"
          ]
        }
      ]
    },
    {
      "cell_type": "code",
      "source": [
        "#13. Calculate the mean, median, and mode of grouped data.\n",
        "\n",
        "# Sample grouped data\n",
        "class_intervals = ['0-10', '10-20', '20-30', '30-40', '40-50']\n",
        "frequencies = [5, 8, 15, 16, 6]\n",
        "\n",
        "# Step 1: Calculate midpoints\n",
        "midpoints = []\n",
        "for interval in class_intervals:\n",
        "    lower, upper = map(int, interval.split('-'))\n",
        "    midpoints.append((lower + upper) / 2)\n",
        "\n",
        "# Step 2: Calculate Mean\n",
        "total_freq = sum(frequencies)\n",
        "fx = [f * x for f, x in zip(frequencies, midpoints)]\n",
        "mean = sum(fx) / total_freq\n",
        "\n",
        "# Step 3: Calculate Median\n",
        "cumulative_freq = []\n",
        "cum_sum = 0\n",
        "for f in frequencies:\n",
        "    cum_sum += f\n",
        "    cumulative_freq.append(cum_sum)\n",
        "\n",
        "n = total_freq\n",
        "median_class_index = next(i for i, cf in enumerate(cumulative_freq) if cf >= n / 2)\n",
        "\n",
        "L = int(class_intervals[median_class_index].split('-')[0])\n",
        "f = frequencies[median_class_index]\n",
        "CF = cumulative_freq[median_class_index - 1] if median_class_index > 0 else 0\n",
        "h = 10  # class width\n",
        "median = L + ((n/2 - CF) / f) * h\n",
        "\n",
        "# Step 4: Calculate Mode\n",
        "modal_index = frequencies.index(max(frequencies))\n",
        "L_modal = int(class_intervals[modal_index].split('-')[0])\n",
        "f1 = frequencies[modal_index]\n",
        "f0 = frequencies[modal_index - 1] if modal_index > 0 else 0\n",
        "f2 = frequencies[modal_index + 1] if modal_index + 1 < len(frequencies) else 0\n",
        "mode = L_modal + ((f1 - f0) / ((2 * f1) - f0 - f2)) * h\n",
        "\n",
        "# Final results\n",
        "print(f\"Mean: {mean:.2f}\")\n",
        "print(f\"Median: {median:.2f}\")\n",
        "print(f\"Mode: {mode:.2f}\")"
      ],
      "metadata": {
        "colab": {
          "base_uri": "https://localhost:8080/"
        },
        "id": "inUOGBeBgNjR",
        "outputId": "bbb806aa-eae0-4a00-b5dc-f31d4a102848"
      },
      "execution_count": 2,
      "outputs": [
        {
          "output_type": "stream",
          "name": "stdout",
          "text": [
            "Mean: 27.00\n",
            "Median: 28.00\n",
            "Mode: 30.91\n"
          ]
        }
      ]
    },
    {
      "cell_type": "code",
      "source": [
        "#14. Simulate data using Python and calculate its central tendency and dispersion.\n",
        "\n",
        "import numpy as np\n",
        "import pandas as pd\n",
        "from scipy import stats\n",
        "\n",
        "# Step 1: Simulate data (e.g., 100 random values from normal distribution)\n",
        "np.random.seed(42)  # for reproducibility\n",
        "data = np.random.normal(loc=50, scale=10, size=100)  # mean=50, std=10\n",
        "\n",
        "# Convert to pandas Series for easy stats\n",
        "data_series = pd.Series(data)\n",
        "\n",
        "# Step 2: Central Tendency\n",
        "mean = data_series.mean()\n",
        "median = data_series.median()\n",
        "mode = data_series.mode().iloc[0]  # mode may return multiple values\n",
        "\n",
        "# Step 3: Dispersion\n",
        "data_range = data_series.max() - data_series.min()\n",
        "variance = data_series.var()\n",
        "std_dev = data_series.std()\n",
        "\n",
        "# Step 4: Print results\n",
        "print(f\"Mean: {mean:.2f}\")\n",
        "print(f\"Median: {median:.2f}\")\n",
        "print(f\"Mode: {mode:.2f}\")\n",
        "print(f\"Range: {data_range:.2f}\")\n",
        "print(f\"Variance: {variance:.2f}\")\n",
        "print(f\"Standard Deviation: {std_dev:.2f}\")"
      ],
      "metadata": {
        "colab": {
          "base_uri": "https://localhost:8080/"
        },
        "id": "kgA244mhgNaP",
        "outputId": "cf2b69cc-7657-4cd4-ee9a-06fa17e9646e"
      },
      "execution_count": 3,
      "outputs": [
        {
          "output_type": "stream",
          "name": "stdout",
          "text": [
            "Mean: 48.96\n",
            "Median: 48.73\n",
            "Mode: 23.80\n",
            "Range: 44.72\n",
            "Variance: 82.48\n",
            "Standard Deviation: 9.08\n"
          ]
        }
      ]
    },
    {
      "cell_type": "code",
      "source": [
        "#15. Use NumPy or pandas to summarize a dataset’s descriptive statistics.\n",
        "\n",
        "import pandas as pd\n",
        "import numpy as np\n",
        "\n",
        "# Create a sample dataset with 2 variables\n",
        "np.random.seed(42)\n",
        "data = {\n",
        "    'Age': np.random.randint(18, 60, size=100),\n",
        "    'Salary': np.random.normal(50000, 8000, size=100)\n",
        "}\n",
        "\n",
        "df = pd.DataFrame(data)\n",
        "\n",
        "# Summary statistics\n",
        "summary = df.describe()\n",
        "print(summary)"
      ],
      "metadata": {
        "colab": {
          "base_uri": "https://localhost:8080/"
        },
        "id": "YwKYELUmgNRl",
        "outputId": "37a8802f-e709-401f-ce64-e35ece3f7db6"
      },
      "execution_count": 4,
      "outputs": [
        {
          "output_type": "stream",
          "name": "stdout",
          "text": [
            "              Age        Salary\n",
            "count  100.000000    100.000000\n",
            "mean    37.910000  50066.884641\n",
            "std     12.219454   7831.728321\n",
            "min     18.000000  30009.926867\n",
            "25%     26.750000  45034.351247\n",
            "50%     38.000000  49850.543143\n",
            "75%     46.250000  55666.144428\n",
            "max     59.000000  67269.828187\n"
          ]
        }
      ]
    },
    {
      "cell_type": "code",
      "source": [
        "#16. Plot a boxplot to understand the spread and identify outliers.\n",
        "\n",
        "import numpy as np\n",
        "import pandas as pd\n",
        "import matplotlib.pyplot as plt\n",
        "\n",
        "# Simulate some data\n",
        "np.random.seed(42)\n",
        "data = np.random.normal(50, 10, 100)  # mean=50, std=10\n",
        "\n",
        "# Convert to DataFrame\n",
        "df = pd.DataFrame(data, columns=['Values'])\n",
        "\n",
        "# Create boxplot\n",
        "plt.boxplot(df['Values'], vert=False, patch_artist=True, boxprops=dict(facecolor='lightblue'))\n",
        "plt.title('Boxplot of Values')\n",
        "plt.xlabel('Value')\n",
        "plt.grid(True)\n",
        "plt.show()"
      ],
      "metadata": {
        "colab": {
          "base_uri": "https://localhost:8080/",
          "height": 472
        },
        "id": "mKwMg2ZxgNIu",
        "outputId": "4565113b-da0b-4df5-826d-c31447c6fa25"
      },
      "execution_count": 5,
      "outputs": [
        {
          "output_type": "display_data",
          "data": {
            "text/plain": [
              "<Figure size 640x480 with 1 Axes>"
            ],
            "image/png": "[encoded data removed]"
          },
          "metadata": {}
        }
      ]
    },
    {
      "cell_type": "code",
      "source": [
        "#17. Calculate the interquartile range (IQR) of a dataset.\n",
        "\n",
        "import numpy as np\n",
        "\n",
        "# Sample dataset\n",
        "data = [12, 15, 14, 10, 18, 21, 22, 20, 30, 35, 40]\n",
        "\n",
        "# Calculate Q1 and Q3\n",
        "Q1 = np.percentile(data, 25)\n",
        "Q3 = np.percentile(data, 75)\n",
        "\n",
        "# Calculate IQR\n",
        "IQR = Q3 - Q1\n",
        "\n",
        "# Display results\n",
        "print(f\"Q1 (25th percentile): {Q1}\")\n",
        "print(f\"Q3 (75th percentile): {Q3}\")\n",
        "print(f\"IQR (Interquartile Range): {IQR}\")"
      ],
      "metadata": {
        "colab": {
          "base_uri": "https://localhost:8080/"
        },
        "id": "3KrUsRx-gM-I",
        "outputId": "8e17d9b4-0207-4d38-e592-eba1f766a8c0"
      },
      "execution_count": 6,
      "outputs": [
        {
          "output_type": "stream",
          "name": "stdout",
          "text": [
            "Q1 (25th percentile): 14.5\n",
            "Q3 (75th percentile): 26.0\n",
            "IQR (Interquartile Range): 11.5\n"
          ]
        }
      ]
    },
    {
      "cell_type": "code",
      "source": [
        "#18. Implement Z-score normalization and explain its significance.\n",
        "\n",
        "import numpy as np\n",
        "import pandas as pd\n",
        "from sklearn.preprocessing import StandardScaler\n",
        "\n",
        "# Example data\n",
        "data = {\n",
        "    'Height': [150, 160, 170, 180, 190],\n",
        "    'Weight': [50, 60, 70, 80, 90]\n",
        "}\n",
        "\n",
        "df = pd.DataFrame(data)\n",
        "\n",
        "# Z-score normalization using sklearn\n",
        "scaler = StandardScaler()\n",
        "normalized_data = scaler.fit_transform(df)\n",
        "\n",
        "# Convert back to DataFrame for readability\n",
        "normalized_df = pd.DataFrame(normalized_data, columns=df.columns)\n",
        "\n",
        "print(normalized_df)"
      ],
      "metadata": {
        "colab": {
          "base_uri": "https://localhost:8080/"
        },
        "id": "42h8JMbWgM1E",
        "outputId": "e7878f0d-ec51-4131-e242-1adf4562a5ab"
      },
      "execution_count": 7,
      "outputs": [
        {
          "output_type": "stream",
          "name": "stdout",
          "text": [
            "     Height    Weight\n",
            "0 -1.414214 -1.414214\n",
            "1 -0.707107 -0.707107\n",
            "2  0.000000  0.000000\n",
            "3  0.707107  0.707107\n",
            "4  1.414214  1.414214\n"
          ]
        }
      ]
    },
    {
      "cell_type": "code",
      "source": [
        "#19. Compare two datasets using their standard deviations.\n",
        "\n",
        "import numpy as np\n",
        "\n",
        "# Define the datasets\n",
        "data1 = [10, 12, 23, 23, 16, 23, 21, 16]\n",
        "data2 = [5, 25, 15, 35, 45, 10, 30, 20]\n",
        "\n",
        "# Calculate standard deviations\n",
        "std1 = np.std(data1)\n",
        "std2 = np.std(data2)\n",
        "\n",
        "# Print results\n",
        "print(\"Standard Deviation of Dataset 1:\", std1)\n",
        "print(\"Standard Deviation of Dataset 2:\", std2)\n",
        "\n",
        "# Compare\n",
        "if std1 > std2:\n",
        "    print(\"Dataset 1 is more spread out.\")\n",
        "elif std1 < std2:\n",
        "    print(\"Dataset 2 is more spread out.\")\n",
        "else:\n",
        "    print(\"Both datasets have equal spread.\")"
      ],
      "metadata": {
        "colab": {
          "base_uri": "https://localhost:8080/"
        },
        "id": "XjLAiR8ygMon",
        "outputId": "e882cba0-e64e-4ad6-8376-95c5a356333d"
      },
      "execution_count": 8,
      "outputs": [
        {
          "output_type": "stream",
          "name": "stdout",
          "text": [
            "Standard Deviation of Dataset 1: 4.898979485566356\n",
            "Standard Deviation of Dataset 2: 12.484365222148861\n",
            "Dataset 2 is more spread out.\n"
          ]
        }
      ]
    },
    {
      "cell_type": "code",
      "source": [
        "#20. Write a Python program to visualize covariance using a heatmap.\n",
        "\n",
        "import pandas as pd\n",
        "import seaborn as sns\n",
        "import matplotlib.pyplot as plt\n",
        "\n",
        "# Sample dataset (you can replace this with your own)\n",
        "data = {\n",
        "    'Math': [88, 92, 80, 89, 100],\n",
        "    'Science': [90, 85, 88, 92, 95],\n",
        "    'English': [85, 87, 78, 85, 90]\n",
        "}\n",
        "\n",
        "# Create a DataFrame\n",
        "df = pd.DataFrame(data)\n",
        "\n",
        "# Compute covariance matrix\n",
        "cov_matrix = df.cov()\n",
        "\n",
        "# Plot heatmap\n",
        "plt.figure(figsize=(8, 6))\n",
        "sns.heatmap(cov_matrix, annot=True, cmap='coolwarm', fmt=\".2f\")\n",
        "plt.title('Covariance Heatmap')\n",
        "plt.show()"
      ],
      "metadata": {
        "colab": {
          "base_uri": "https://localhost:8080/",
          "height": 545
        },
        "id": "6YmwII-wSpha",
        "outputId": "9385cee1-6188-4e14-8a18-c67522ee4fbb"
      },
      "execution_count": 9,
      "outputs": [
        {
          "output_type": "display_data",
          "data": {
            "text/plain": [
              "<Figure size 800x600 with 2 Axes>"
            ],
            "image/png": "[encoded data removed]"
          },
          "metadata": {}
        }
      ]
    },
    {
      "cell_type": "code",
      "source": [
        "#21. Use seaborn to create a correlation matrix for a dataset.\n",
        "\n",
        "import seaborn as sns\n",
        "import pandas as pd\n",
        "import matplotlib.pyplot as plt\n",
        "\n",
        "# Sample DataFrame\n",
        "df = pd.DataFrame({\n",
        "    'Math': [88, 92, 80, 89, 100],\n",
        "    'Science': [90, 85, 88, 92, 95],\n",
        "    'English': [85, 87, 78, 85, 90]\n",
        "})\n",
        "\n",
        "# Correlation heatmap\n",
        "sns.heatmap(df.corr(), annot=True, cmap='coolwarm')\n",
        "plt.title('Correlation Matrix')\n",
        "plt.show()"
      ],
      "metadata": {
        "colab": {
          "base_uri": "https://localhost:8080/",
          "height": 452
        },
        "id": "tBCxYSQySpWm",
        "outputId": "501188ef-d853-42a3-b92d-53eff001a96f"
      },
      "execution_count": 10,
      "outputs": [
        {
          "output_type": "display_data",
          "data": {
            "text/plain": [
              "<Figure size 640x480 with 2 Axes>"
            ],
            "image/png": "[encoded data removed]"
          },
          "metadata": {}
        }
      ]
    },
    {
      "cell_type": "code",
      "source": [
        "#22. Generate a dataset and implement both variance and standard deviation computations.\n",
        "\n",
        "import numpy as np\n",
        "\n",
        "# Generate a dataset (e.g., 10 random integers between 50 and 100)\n",
        "data = np.random.randint(50, 101, size=10)\n",
        "\n",
        "# Compute variance and standard deviation\n",
        "variance = np.var(data, ddof=1)  # Sample variance\n",
        "std_dev = np.std(data, ddof=1)   # Sample standard deviation\n",
        "\n",
        "# Output results\n",
        "print(\"Dataset:\", data)\n",
        "print(\"Variance:\", variance)\n",
        "print(\"Standard Deviation:\", std_dev)"
      ],
      "metadata": {
        "colab": {
          "base_uri": "https://localhost:8080/"
        },
        "id": "p0DrwHRXY6e-",
        "outputId": "5f84db21-6800-4504-bfdb-586dec09e333"
      },
      "execution_count": 11,
      "outputs": [
        {
          "output_type": "stream",
          "name": "stdout",
          "text": [
            "Dataset: [ 58  86  82 100  91  93  73  64  81  81]\n",
            "Variance: 168.10000000000002\n",
            "Standard Deviation: 12.965338406690357\n"
          ]
        }
      ]
    },
    {
      "cell_type": "code",
      "source": [
        "#23. Visualize skewness and kurtosis using Python libraries like matplotlib or seaborn.\n",
        "\n",
        "import matplotlib.pyplot as plt\n",
        "import seaborn as sns\n",
        "import numpy as np\n",
        "from scipy.stats import skew, kurtosis\n",
        "\n",
        "# Generate a right-skewed dataset\n",
        "data = np.random.lognormal(0, 1, 1000)\n",
        "\n",
        "# Plot histogram with KDE\n",
        "sns.histplot(data, kde=True)\n",
        "plt.title(f\"Skewness: {skew(data):.2f} | Kurtosis: {kurtosis(data):.2f}\")\n",
        "plt.show()"
      ],
      "metadata": {
        "colab": {
          "base_uri": "https://localhost:8080/",
          "height": 452
        },
        "id": "a1u-sDToSpMI",
        "outputId": "c027548c-de9f-468e-eeaf-3b5a6fa95928"
      },
      "execution_count": 12,
      "outputs": [
        {
          "output_type": "display_data",
          "data": {
            "text/plain": [
              "<Figure size 640x480 with 1 Axes>"
            ],
            "image/png": "[encoded data removed]"
          },
          "metadata": {}
        }
      ]
    },
    {
      "cell_type": "code",
      "source": [
        "#24. Implement the Pearson and Spearman correlation coefficients for a dataset.\n",
        "\n",
        "import numpy as np\n",
        "from scipy.stats import pearsonr, spearmanr\n",
        "\n",
        "# Sample dataset\n",
        "x = np.array([10, 20, 30, 40, 50])\n",
        "y = np.array([12, 24, 33, 45, 58])\n",
        "\n",
        "# Pearson correlation\n",
        "pearson_corr, _ = pearsonr(x, y)\n",
        "\n",
        "# Spearman correlation\n",
        "spearman_corr, _ = spearmanr(x, y)\n",
        "\n",
        "# Print results\n",
        "print(f\"Pearson Correlation: {pearson_corr:.2f}\")\n",
        "print(f\"Spearman Correlation: {spearman_corr:.2f}\")"
      ],
      "metadata": {
        "colab": {
          "base_uri": "https://localhost:8080/"
        },
        "id": "VREn9rFOSo91",
        "outputId": "5af90950-79ff-47f8-e086-b11b0721f76b"
      },
      "execution_count": 13,
      "outputs": [
        {
          "output_type": "stream",
          "name": "stdout",
          "text": [
            "Pearson Correlation: 1.00\n",
            "Spearman Correlation: 1.00\n"
          ]
        }
      ]
    }
  ]
}